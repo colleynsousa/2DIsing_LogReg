{
 "cells": [
  {
   "cell_type": "code",
   "execution_count": 3,
   "metadata": {},
   "outputs": [],
   "source": [
    "#+.+\n",
    "import numpy as np \n",
    "import torch\n",
    "import torch.nn as nn \n",
    "import torch.optim as optim\n",
    "import pickle as pkl\n",
    "from sklearn.model_selection import train_test_split\n",
    "import matplotlib.pyplot as plt"
   ]
  },
  {
   "cell_type": "markdown",
   "metadata": {},
   "source": [
    "SET-UP"
   ]
  },
  {
   "cell_type": "code",
   "execution_count": 4,
   "metadata": {},
   "outputs": [],
   "source": [
    "#ISING MODEL PARAMETERS\n",
    "L=40 #linear system size \n",
    "J=-1.0 #Ising interaction, not actually necessary\n",
    "T=np.linspace(0.25,4.0,16) #temperatures, not actually necessary\n",
    "Tc=2.26 #critical temperature, not actually necessary\n",
    "\n",
    "#DATA\n",
    "data=pkl.load(open(\"Ising2DFM_reSample_L40_T=All.pkl\",\"rb\"))\n",
    "data=np.unpackbits(data).astype(int).reshape(-1,1600)\n",
    "data[np.where(data==0)]=-1 #map 0 state to -1 (Ising variable takes +/-1 values), not actually necessary (but useful if one wants to conduct further studies involving the Hamiltonian)\n",
    "#print(\"data \", data)\n",
    "#print(data.shape)\n",
    "\n",
    "#LABELS \n",
    "labels=pkl.load(open(\"Ising2DFM_reSample_L40_T=All_labels.pkl\",\"rb\")) #1: ordered, 0: disordered\n",
    "#print(\"labels \", labels)\n",
    "\n",
    "#DIVIDE DATA INTO ORDERED, CRITICAL, DISORDERED\n",
    "X_ordered=data[:70000,:]\n",
    "Y_ordered=labels[:70000]  \n",
    "#print(Y_ordered)\n",
    "X_critical=data[70000:100000,:]\n",
    "Y_critical=labels[70000:100000]\n",
    "#print(Y_critical)\n",
    "X_disordered=data[100000:,:]\n",
    "Y_disordered=labels[100000:]\n",
    "#print(Y_disordered)\n",
    "del data,labels #delete original arrays\n",
    "\n",
    "#TRAINING AND TEST DATA SETS ON ORDERED & DISORDERED STATES\n",
    "X=np.concatenate((X_ordered,X_disordered))\n",
    "Y=np.concatenate((Y_ordered,Y_disordered))\n",
    "X_train,X_test,Y_train,Y_test=train_test_split(X,Y,train_size=0.8,test_size=0.2) #train on 80% of this data\n",
    "X=np.concatenate((X_critical,X)) #retrieve full data set, not really necessary\n",
    "Y=np.concatenate((Y_critical,Y)) #retrieve full labels set, not really necessary"
   ]
  },
  {
   "cell_type": "markdown",
   "metadata": {},
   "source": [
    "MODEL"
   ]
  },
  {
   "cell_type": "code",
   "execution_count": 5,
   "metadata": {},
   "outputs": [],
   "source": [
    "#IDEALIZED MODEL: L2 regularization with lambda=3e-5, max_iter=375, no seeding\n",
    "def model():\n",
    "    \n",
    "    train_accuracies=[]\n",
    "    test_accuracies=[]\n",
    "    crit_accuracies=[]\n",
    "\n",
    "    #DEFINE LOG REG MODEL \n",
    "    class LogReg(nn.Module):\n",
    "        def __init__(self,input_dim): \n",
    "            super(LogReg,self).__init__()\n",
    "            self.linear=nn.Linear(input_dim,1) #outputs value of dim. 1\n",
    "            \n",
    "        def forward(self,x): #passes input through linear layer and apply sigmoid activation function to produce output\n",
    "            return torch.sigmoid(self.linear(x)) #sigmoid function\n",
    "            \n",
    "    def l2_loss(model,criterion,inputs,labels,lambd=3e-5):\n",
    "        outputs=model(inputs)\n",
    "        loss=criterion(outputs,labels.view(-1,1))\n",
    "        l2_reg=torch.tensor(0.)\n",
    "        for param in model.parameters():\n",
    "            l2_reg+=torch.norm(param)\n",
    "        loss+=lambd*l2_reg\n",
    "        return loss\n",
    "                    \n",
    "    #LOSS FUNCTION AND OPTIMIZER   \n",
    "    model=LogReg(input_dim=X_train.shape[1]) #instance of LogReg class created\n",
    "    criterion=nn.BCELoss() #Binary Cross Entropy Loss used as loss function\n",
    "    optimizer=optim.LBFGS(model.parameters(),lr=0.01,max_iter=375)\n",
    "\n",
    "    inputs=torch.tensor(X_train,dtype=torch.float32) #convert to PyTorch tensors\n",
    "    labels=torch.tensor(Y_train,dtype=torch.float32)\n",
    "\n",
    "    #L-BFGS OPTIMIZATION CLOSURE\n",
    "    def closure():\n",
    "        optimizer.zero_grad()\n",
    "        outputs=model(inputs)\n",
    "        loss=l2_loss(model,criterion,inputs,labels)\n",
    "        loss.backward()\n",
    "        return loss\n",
    "\n",
    "    #OPTIMIZATION\n",
    "    optimizer.step(closure)\n",
    "                \n",
    "    #EVALUATION ON TRAINING DATA\n",
    "    with torch.no_grad(): \n",
    "        inputs=torch.tensor(X_train,dtype=torch.float32)\n",
    "        labels=torch.tensor(Y_train,dtype=torch.float32)\n",
    "        outputs=model(inputs) #get model predictions\n",
    "        predicted=(outputs>=0.5).float() #if >=0.5, prediction class 1, otherwise 0\n",
    "        accuracy=(predicted==labels.view(-1,1)).sum().item()/len(labels)\n",
    "        print(f\"Accuracy on training data: {accuracy: .4%}\")\n",
    "        train_accuracies.append(accuracy) \n",
    "            \n",
    "    #EVALUATION ON TEST DATA\n",
    "    with torch.no_grad(): \n",
    "        inputs=torch.tensor(X_test,dtype=torch.float32)\n",
    "        labels=torch.tensor(Y_test,dtype=torch.float32)\n",
    "        outputs=model(inputs) #get model predictions\n",
    "        predicted=(outputs>=0.5).float() #if >=0.5, prediction class 1, otherwise 0\n",
    "        accuracy=(predicted==labels.view(-1,1)).sum().item()/len(labels)\n",
    "        print(f\"Accuracy on test data: {accuracy: .4%}\")\n",
    "        test_accuracies.append(accuracy)\n",
    "            \n",
    "    #EVALUATION ON CRITICAL DATA\n",
    "    with torch.no_grad(): \n",
    "        inputs=torch.tensor(X_critical,dtype=torch.float32)\n",
    "        labels=torch.tensor(Y_critical,dtype=torch.float32)\n",
    "        outputs=model(inputs) #get model predictions\n",
    "        predicted=(outputs>=0.5).float() #if >=0.5, prediction class 1, otherwise 0\n",
    "        accuracy=(predicted==labels.view(-1,1)).sum().item()/len(labels)\n",
    "        print(f\"Accuracy on critical data: {accuracy: .4%}\\n\")\n",
    "        crit_accuracies.append(accuracy)\n",
    "    \n",
    "    return train_accuracies,test_accuracies,crit_accuracies "
   ]
  },
  {
   "cell_type": "code",
   "execution_count": 20,
   "metadata": {},
   "outputs": [
    {
     "name": "stdout",
     "output_type": "stream",
     "text": [
      "\n",
      "Run  1\n",
      "Accuracy on training data:  70.9154%\n",
      "Accuracy on test data:  68.2962%\n",
      "Accuracy on critical data:  63.4333%\n",
      "\n",
      "\n",
      "Run  2\n",
      "Accuracy on training data:  71.0663%\n",
      "Accuracy on test data:  68.6269%\n",
      "Accuracy on critical data:  63.2733%\n",
      "\n",
      "\n",
      "Run  3\n",
      "Accuracy on training data:  71.0817%\n",
      "Accuracy on test data:  68.5000%\n",
      "Accuracy on critical data:  63.2867%\n",
      "\n",
      "\n",
      "Run  4\n",
      "Accuracy on training data:  71.1010%\n",
      "Accuracy on test data:  68.4500%\n",
      "Accuracy on critical data:  63.2900%\n",
      "\n",
      "\n",
      "Run  5\n",
      "Accuracy on training data:  71.0683%\n",
      "Accuracy on test data:  68.3692%\n",
      "Accuracy on critical data:  63.3533%\n",
      "\n",
      "\n",
      "Run  6\n",
      "Accuracy on training data:  71.1663%\n",
      "Accuracy on test data:  68.6038%\n",
      "Accuracy on critical data:  63.2300%\n",
      "\n",
      "\n",
      "Run  7\n",
      "Accuracy on training data:  71.0702%\n",
      "Accuracy on test data:  68.4231%\n",
      "Accuracy on critical data:  63.3533%\n",
      "\n",
      "\n",
      "Run  8\n",
      "Accuracy on training data:  71.1769%\n",
      "Accuracy on test data:  68.4462%\n",
      "Accuracy on critical data:  63.1733%\n",
      "\n",
      "\n",
      "Run  9\n",
      "Accuracy on training data:  71.1490%\n",
      "Accuracy on test data:  68.5769%\n",
      "Accuracy on critical data:  63.0200%\n",
      "\n",
      "\n",
      "Run  10\n",
      "Accuracy on training data:  71.1885%\n",
      "Accuracy on test data:  68.5462%\n",
      "Accuracy on critical data:  63.2100%\n",
      "\n"
     ]
    }
   ],
   "source": [
    "train=[]\n",
    "test=[]\n",
    "crit=[]\n",
    "for i in range(10): \n",
    "    print(\"\\nRun \", (i+1))\n",
    "    train_accuracies,test_accuracies,crit_accuracies=model()\n",
    "    train.append(train_accuracies)\n",
    "    test.append(test_accuracies)\n",
    "    crit.append(crit_accuracies)"
   ]
  },
  {
   "cell_type": "code",
   "execution_count": 28,
   "metadata": {},
   "outputs": [
    {
     "data": {
      "image/png": "[encoded data removed]",
      "text/plain": [
       "<Figure size 576x576 with 1 Axes>"
      ]
     },
     "metadata": {
      "needs_background": "light"
     },
     "output_type": "display_data"
    }
   ],
   "source": [
    "columns=[\"Run Number\",\"Training Accuracy\",\"Testing Accuracy\",\"Critical Accuracy\"]\n",
    "row_labels=[\"1\",\"2\",\"3\",\"4\",\"5\",\"6\",\"7\",\"8\",\"9\",\"10\"]\n",
    "\n",
    "train1=[f\"{float(val[0])*100:.2f}%\" for val in train]\n",
    "test1=[f\"{float(val1[0])*100:.2f}%\" for val1 in test]\n",
    "crit1=[f\"{float(val2[0])*100:.2f}%\" for val2 in crit]\n",
    "\n",
    "fig,ax=plt.subplots(figsize=(8,8))\n",
    "ax.axis('tight')\n",
    "ax.axis('off')\n",
    "table_data=[columns]+list(zip(row_labels,train1,test1,crit1))\n",
    "ax.table(cellText=table_data,loc='center',cellLoc='center')\n",
    "plt.show()"
   ]
  },
  {
   "cell_type": "code",
   "execution_count": 49,
   "metadata": {},
   "outputs": [
    {
     "data": {
      "image/png": "[encoded data removed]",
      "text/plain": [
       "<Figure size 576x576 with 1 Axes>"
      ]
     },
     "metadata": {
      "needs_background": "light"
     },
     "output_type": "display_data"
    }
   ],
   "source": [
    "row_labels=[\"Training Accuracy\",\"Testing Accuracy\",\"Critical Accuracy\"]\n",
    "columns=[\"Average\",\"Standard Deviation\",\"Minimum\",\"Maximum\"]\n",
    "\n",
    "train_float=[float(val3[0]) for val3 in train]\n",
    "test_float=[float(val4[0]) for val4 in test]\n",
    "crit_float=[float(val5[0]) for val5 in crit]\n",
    "\n",
    "avg_train=np.mean(train_float)\n",
    "std_train=np.std(train_float)\n",
    "min_train=np.min(train_float)\n",
    "max_train=np.max(train_float)\n",
    "\n",
    "avg_test=np.mean(test_float)\n",
    "std_test=np.std(test_float)\n",
    "min_test=np.min(test_float)\n",
    "max_test=np.max(test_float)\n",
    "\n",
    "avg_crit=np.mean(crit_float)\n",
    "std_crit=np.std(crit_float)\n",
    "min_crit=np.min(crit_float)\n",
    "max_crit=np.max(crit_float)\n",
    "\n",
    "avgs=[avg_train,avg_test,avg_crit]\n",
    "stds=[std_train,std_test,std_crit]\n",
    "mins=[min_train,min_test,min_crit]\n",
    "maxs=[max_train,max_test,max_crit]\n",
    "\n",
    "avg1=[f\"{float(a)*100:.2f}%\" for a in avgs]\n",
    "std1=[f\"{float(s)*100:.2f}%\" for s in stds]\n",
    "min1=[f\"{float(mn)*100:.2f}%\" for mn in mins]\n",
    "max1=[f\"{float(ma)*100:.2f}%\" for ma in maxs]\n",
    "\n",
    "table_data=[avg1,std1,min1,max1]\n",
    "\n",
    "fig,ax=plt.subplots(figsize=(8,8))\n",
    "ax.axis('tight')\n",
    "ax.axis('off')\n",
    "table_data=list(zip(avg1,std1,min1,max1))\n",
    "ax.table(cellText=table_data,loc='center',cellLoc='center',rowLabels=row_labels,colLabels=columns)\n",
    "plt.show()"
   ]
  },
  {
   "cell_type": "code",
   "execution_count": null,
   "metadata": {},
   "outputs": [],
   "source": []
  }
 ],
 "metadata": {
  "kernelspec": {
   "display_name": "nameOfEnv",
   "language": "python",
   "name": "nameofenv"
  },
  "language_info": {
   "codemirror_mode": {
    "name": "ipython",
    "version": 3
   },
   "file_extension": ".py",
   "mimetype": "text/x-python",
   "name": "python",
   "nbconvert_exporter": "python",
   "pygments_lexer": "ipython3",
   "version": "3.8.3"
  }
 },
 "nbformat": 4,
 "nbformat_minor": 2
}
